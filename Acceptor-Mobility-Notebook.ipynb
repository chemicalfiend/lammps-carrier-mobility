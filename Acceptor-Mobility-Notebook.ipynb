{
 "cells": [
  {
   "cell_type": "code",
   "execution_count": 1,
   "id": "ac282ab5",
   "metadata": {},
   "outputs": [],
   "source": [
    "from copy import deepcopy\n",
    "import os\n",
    "import re\n",
    "import gsd.hoomd\n",
    "import numpy as np\n",
    "from morphct import execute_qcc as eqcc\n",
    "from morphct import chromophores\n",
    "from morphct import kmc_analyze\n",
    "from morphct.chromophores import conversion_dict\n",
    "from morphct.chromophores import amber_dict\n",
    "from morphct.mobility_kmc import snap_molecule_indices\n",
    "from morphct.system import System\n",
    "import pickle"
   ]
  },
  {
   "cell_type": "code",
   "execution_count": 2,
   "id": "c26f7138",
   "metadata": {},
   "outputs": [],
   "source": [
    "gsd_file = \"itic-trajectory.gsd\"\n",
    "with gsd.hoomd.open(name=gsd_file, mode='rb') as f:\n",
    "    snap = f[-1]"
   ]
  },
  {
   "cell_type": "code",
   "execution_count": 3,
   "id": "2b88ea1f",
   "metadata": {},
   "outputs": [],
   "source": [
    "box = snap.configuration.box[:3]\n",
    "ref_distance = 3.563594872561358\n",
    "unwrapped_positions = snap.particles.position + snap.particles.image * box\n",
    "snap.particles.position *= ref_distance\n",
    "snap.configuration.box[:3] *= ref_distance\n",
    "unwrap_snap = deepcopy(snap)\n",
    "unwrap_snap.particles.position = unwrapped_positions\n",
    "unwrap_snap.particles.types = [amber_dict[i].symbol for i in snap.particles.types]"
   ]
  },
  {
   "cell_type": "code",
   "execution_count": 4,
   "id": "eeb5f5a3",
   "metadata": {},
   "outputs": [],
   "source": [
    "gsd_mol_index = snap_molecule_indices(snap)\n",
    "k = np.count_nonzero(gsd_mol_index==0)\n",
    "chromo_ids = np.arange(snap.particles.N)[0:k]"
   ]
  },
  {
   "cell_type": "code",
   "execution_count": 5,
   "id": "facf922e",
   "metadata": {},
   "outputs": [],
   "source": [
    "master_list = []\n",
    "sublist = chromo_ids\n",
    "for i in range(len(np.unique(gsd_mol_index))):         \n",
    "    master_list.append(sublist)\n",
    "    sublist = [x + k for x in sublist]"
   ]
  },
  {
   "cell_type": "code",
   "execution_count": 6,
   "id": "73e406cc",
   "metadata": {},
   "outputs": [
    {
     "name": "stdout",
     "output_type": "stream",
     "text": [
      "There are 20 chromophore pairs\n",
      "Starting singles energy calculation...\n",
      "Finished in 10.18 s. Output written to itic/singles_energies.txt.\n",
      "Setting dimer pairs...\n",
      "Finished in 0.00 s. Output written to itic/dimer_energies.txt.\n",
      "Energies set.\n",
      "CPU times: user 8.28 s, sys: 587 ms, total: 8.87 s\n",
      "Wall time: 18.3 s\n"
     ]
    }
   ],
   "source": [
    "%%time\n",
    "system = System(gsd_file, \"itic\", frame=-1, scale=3.5636, conversion_dict=amber_dict)\n",
    "system.add_chromophores(master_list,\"acceptor\")\n",
    "system.compute_energies()\n",
    "system.set_energies()"
   ]
  },
  {
   "cell_type": "code",
   "execution_count": 7,
   "id": "c6fa2701",
   "metadata": {},
   "outputs": [
    {
     "name": "stdout",
     "output_type": "stream",
     "text": [
      "---------- KMC_ANALYZE ----------\n",
      "All figures saved in itic/kmc/figures\n",
      "---------------------------------\n",
      "Considering the transport of electron...\n",
      "Obtaining mean squared displacements...\n",
      "Plotting distribution of electron displacements\n",
      "\tFigure saved as electron_displacement_dist.png\n",
      "Calculating mobility...\n",
      "\tStandard Error 0.0\n",
      "\tFitting r_val = 0.9999999999999998\n",
      "\tFigure saved as lin_MSD_electron.png\n",
      "\tFigure saved as semi_log_MSD_electron.png\n",
      "\tFigure saved as log_MSD_electron.png\n",
      "\t----------------------------------------\n",
      "\tElectron mobility = 2.72E-01  +/- 1.90E-04 cm^2 V^-1 s^-1\n",
      "\t----------------------------------------\n",
      "Calculating electron trajectory anisotropy...\n",
      "\t----------------------------------------\n",
      "\tElectron charge transport anisotropy: 0.630\n",
      "\t----------------------------------------\n",
      "Plotting electron hop frequency distribution...\n",
      "\tDYNAMIC CUT\n",
      "\tNotice: No minima found in distribution. Cutoff set to None.\n",
      "\tCluster cut-off based on hop frequency set to None\n",
      "\tFigure saved as total_hop_freq_electron.png\n",
      "Plotting electron net hop frequency distribution...\n",
      "\tFigure saved as net_hop_freq_electron.png\n",
      "Plotting (total - net hops) discrepancy distribution...\n",
      "\tThere are 0 paths with one-way transport.\n",
      "\tThere are 0 paths with total - net < 10.\n",
      "\tFigure saved as hop_discrepancy_electron.png\n",
      "Determining molecule IDs...\n",
      "Acceptor LUMO Level = -1.736 +/- 0.034\n",
      "Acceptor Delta E_ij mean = 0.000 +/- 0.024\n",
      "\tFigure saved as acceptor_delta_E_ij.png\n",
      "\tNotice: No minima found in distribution. Cutoff set to None.\n",
      "Neighbor histogram figure saved as neighbor_hist_acceptor.png\n",
      "\tNotice: No minima found in distribution. Cutoff set to None.\n",
      "Orientation histogram figure saved as orientation_hist_acceptor.png\n",
      "Examining the donor material...\n",
      "\tNo material found. Continuing...\n",
      "Examining the acceptor material...\n",
      "Calculating clusters...\n",
      "\tNo cutoff provided: cluster cutoff set to 9.085\n",
      "\t----------------------------------------\n",
      "\tAcceptor: Detected 10 total\n",
      "\tand 0 large clusters (size > 6).\n",
      "\tLargest cluster size: 1 chromophores.\n",
      "\tRatio in \"large\" clusters: 0.00\n",
      "\t----------------------------------------\n",
      "Mean inter-cluster acceptor rate: 4.468e+13+/-3.657e+11\n",
      "\tFigure saved as acceptor_hopping_rate_clusters.png\n",
      "\tFigure saved as acceptor_transfer_integral_clusters.png\n",
      "Mean inter-molecular acceptor rate: 4.468e+13+/-3.657e+12\n",
      "\tFigure saved as acceptor_hopping_rate_clusters.png\n",
      "Plotting cluster size distribution...\n",
      "Writing CSV Output File...\n",
      "\tCSV file written to itic/kmc/results.csv\n"
     ]
    }
   ],
   "source": [
    "lifetime = [1e-10,1e-9]\n",
    "temp = 300\n",
    "system.run_kmc(lifetime, temp, n_elec =1000)"
   ]
  },
  {
   "cell_type": "code",
   "execution_count": null,
   "id": "46507b58",
   "metadata": {},
   "outputs": [],
   "source": []
  },
  {
   "cell_type": "code",
   "execution_count": null,
   "id": "2b5eda98",
   "metadata": {},
   "outputs": [],
   "source": []
  }
 ],
 "metadata": {
  "kernelspec": {
   "display_name": "Python 3 (ipykernel)",
   "language": "python",
   "name": "python3"
  },
  "language_info": {
   "codemirror_mode": {
    "name": "ipython",
    "version": 3
   },
   "file_extension": ".py",
   "mimetype": "text/x-python",
   "name": "python",
   "nbconvert_exporter": "python",
   "pygments_lexer": "ipython3",
   "version": "3.7.12"
  }
 },
 "nbformat": 4,
 "nbformat_minor": 5
}
