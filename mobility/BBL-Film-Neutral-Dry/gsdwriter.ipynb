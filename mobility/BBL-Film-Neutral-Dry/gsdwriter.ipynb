{
 "cells": [
  {
   "cell_type": "code",
   "execution_count": 1,
   "id": "0b7c3802",
   "metadata": {},
   "outputs": [
    {
     "name": "stderr",
     "output_type": "stream",
     "text": [
      "/home/pranay/miniconda3/envs/mbuild/lib/python3.11/site-packages/lark/utils.py:163: DeprecationWarning: module 'sre_parse' is deprecated\n",
      "  import sre_parse\n",
      "/home/pranay/miniconda3/envs/mbuild/lib/python3.11/site-packages/lark/utils.py:164: DeprecationWarning: module 'sre_constants' is deprecated\n",
      "  import sre_constants\n",
      "/home/pranay/mbuild/mbuild/recipes/__init__.py:13: DeprecationWarning: SelectableGroups dict interface is deprecated. Use select.\n",
      "  entry_points = metadata.entry_points()[\"mbuild.plugins\"]\n"
     ]
    }
   ],
   "source": [
    "import mbuild as mb\n",
    "import os"
   ]
  },
  {
   "cell_type": "code",
   "execution_count": 2,
   "id": "9be46f2e",
   "metadata": {},
   "outputs": [],
   "source": [
    "# Setting up basic classes for storage\n",
    "\n",
    "num_molecules = 200\n",
    "atoms_per_mol = 324\n",
    "\n",
    "\n",
    "if(os.path.exists(\"system.gsd\")):\n",
    "    os.remove(\"system.gsd\")\n",
    "class Atom:\n",
    "    def __init__(self, n, mol, typeid, charge, x, y, z):\n",
    "        self.n = n\n",
    "        self.mol = mol\n",
    "        self.charge = charge\n",
    "        self.x = x\n",
    "        self.y = y\n",
    "        self.z = z\n",
    "        \n",
    "        \n",
    "        # Mapping types is based on GAFF; Todo: make a separate file for mapping atoms.\n",
    "\n",
    "        if(typeid <= 18):\n",
    "            self.atomtype = \"C\"\n",
    "\n",
    "        elif(typeid > 18 and typeid <= 31):\n",
    "            self.atomtype = \"H\"\n",
    "\n",
    "        elif(typeid == 32):\n",
    "            self.atomtype = \"F\"\n",
    "        \n",
    "        elif(typeid == 33):\n",
    "            self.atomtype = \"Cl\"\n",
    "\n",
    "        elif(typeid == 34):\n",
    "            self.atomtype = \"Br\"\n",
    "\n",
    "        elif(typeid == 35):\n",
    "            self.atomtype = \"I\"\n",
    "\n",
    "        elif(typeid >= 36 and typeid <= 48):\n",
    "            self.atomtype = \"N\"\n",
    "\n",
    "        elif(typeid >= 49 and typeid <= 52):\n",
    "            self.atomtype = \"O\"\n",
    "\n",
    "        elif (typeid >= 53 and typeid <= 63):\n",
    "            self.atomtype = \"P\"\n",
    "\n",
    "        elif (typeid >= 64 and typeid <= 71):\n",
    "            self.atomtype = \"S\"\n",
    "\n",
    "        else:\n",
    "            self.atomtype = \" \"\n",
    "\n",
    "class Bond:\n",
    "    def __init__(self, a1, a2):\n",
    "        self.atom1 = a1\n",
    "        self.atom2 = a2"
   ]
  },
  {
   "cell_type": "code",
   "execution_count": 3,
   "id": "1a11fe45",
   "metadata": {},
   "outputs": [],
   "source": [
    "# File input\n",
    "\n",
    "fc = open(\"sorted_coords.data\", \"r\")\n",
    "fb = open(\"sorted_bonds.data\", \"r\")\n",
    "\n",
    "clines = fc.readlines()\n",
    "blines = fb.readlines()\n",
    "\n",
    "atoms = []\n",
    "\n",
    "for line in clines:\n",
    "    tokens = line.split()\n",
    "    #print(tokens)    \n",
    "    n = int(tokens[0])\n",
    "    mol = int(tokens[1])\n",
    "    typeid = int(tokens[2])\n",
    "    charge = float(tokens[3])\n",
    "    x = float(tokens[4])\n",
    "    y = float(tokens[5])\n",
    "    z = float(tokens[6])\n",
    "    \n",
    "    atoms.append(Atom(n, mol, typeid, charge, x, y, z))\n",
    "\n",
    "bondi = []\n",
    "bondj = []\n",
    "\n",
    "for line in blines:\n",
    "    tokens = line.split()\n",
    "    #print(tokens)\n",
    "    atom1 = int(tokens[2])\n",
    "    atom2 = int(tokens[3])\n",
    "\n",
    "    bondi.append(atom1)\n",
    "    bondj.append(atom2)\n",
    "\n",
    "system = mb.Compound()"
   ]
  },
  {
   "cell_type": "code",
   "execution_count": 4,
   "id": "36cfc621",
   "metadata": {},
   "outputs": [
    {
     "name": "stdout",
     "output_type": "stream",
     "text": [
      "CPU times: user 39.3 s, sys: 524 ms, total: 39.8 s\n",
      "Wall time: 40.1 s\n"
     ]
    }
   ],
   "source": [
    "%%time\n",
    "\n",
    "# Timing particle additions\n",
    "\n",
    "for i in range(num_molecules):\n",
    "    m = i + 1\n",
    "    mol = mb.Compound()\n",
    "\n",
    "    for atom in atoms:\n",
    "        if atom.mol == m:\n",
    "            a = mb.Particle(pos=[atom.x, atom.y, atom.z], element = atom.atomtype, name=atom.atomtype, charge= atom.charge)\n",
    "            mol.add(a)\n",
    "\n",
    "    system.add(mol)"
   ]
  },
  {
   "cell_type": "code",
   "execution_count": 5,
   "id": "4fcb68cf",
   "metadata": {},
   "outputs": [
    {
     "name": "stdout",
     "output_type": "stream",
     "text": [
      "Added 64800 atoms\n"
     ]
    }
   ],
   "source": [
    "print(f\"Added {system.n_particles} atoms\")"
   ]
  },
  {
   "cell_type": "code",
   "execution_count": 6,
   "id": "b47f651b",
   "metadata": {},
   "outputs": [
    {
     "name": "stdout",
     "output_type": "stream",
     "text": [
      "CPU times: user 2h 42min 50s, sys: 1.04 s, total: 2h 42min 51s\n",
      "Wall time: 2h 43min 23s\n"
     ]
    }
   ],
   "source": [
    "%%time\n",
    "\n",
    "# Timing bond additions\n",
    "\n",
    "for i in range(len(bondi)):\n",
    "    #print(f\"Adding bond number {i}\")\n",
    "    system.add_bond((system[bondi[i] - 1], system[bondj[i] - 1]))"
   ]
  },
  {
   "cell_type": "code",
   "execution_count": 7,
   "id": "b816903f",
   "metadata": {},
   "outputs": [
    {
     "name": "stdout",
     "output_type": "stream",
     "text": [
      "Added 78400 bonds\n"
     ]
    }
   ],
   "source": [
    "print(f\"Added {system.n_bonds} bonds\")"
   ]
  },
  {
   "cell_type": "code",
   "execution_count": null,
   "id": "8df36d78",
   "metadata": {},
   "outputs": [],
   "source": []
  },
  {
   "cell_type": "code",
   "execution_count": null,
   "id": "37ae43b3",
   "metadata": {},
   "outputs": [],
   "source": []
  }
 ],
 "metadata": {
  "kernelspec": {
   "display_name": "Python 3 (ipykernel)",
   "language": "python",
   "name": "python3"
  },
  "language_info": {
   "codemirror_mode": {
    "name": "ipython",
    "version": 3
   },
   "file_extension": ".py",
   "mimetype": "text/x-python",
   "name": "python",
   "nbconvert_exporter": "python",
   "pygments_lexer": "ipython3",
   "version": "3.11.3"
  }
 },
 "nbformat": 4,
 "nbformat_minor": 5
}
