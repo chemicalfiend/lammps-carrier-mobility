{
 "cells": [
  {
   "cell_type": "code",
   "execution_count": 14,
   "id": "03353fc2",
   "metadata": {},
   "outputs": [],
   "source": [
    "import mbuild as mb\n",
    "import os"
   ]
  },
  {
   "cell_type": "code",
   "execution_count": 15,
   "id": "5e0a19a1",
   "metadata": {},
   "outputs": [],
   "source": [
    "# Setting up basic classes for storage\n",
    "\n",
    "num_molecules = 200\n",
    "atoms_per_mol = 324\n",
    "\n",
    "\n",
    "if(os.path.exists(\"system.gsd\")):\n",
    "    os.remove(\"system.gsd\")\n",
    "class Atom:\n",
    "    def __init__(self, n, mol, typeid, charge, x, y, z):\n",
    "        self.n = n\n",
    "        self.mol = mol\n",
    "        self.charge = charge\n",
    "        self.x = x\n",
    "        self.y = y\n",
    "        self.z = z\n",
    "        \n",
    "        \n",
    "        # Mapping types is based on GAFF; Todo: make a separate file for mapping atoms.\n",
    "\n",
    "        if(typeid <= 18):\n",
    "            self.atomtype = \"C\"\n",
    "\n",
    "        elif(typeid > 18 and typeid <= 31):\n",
    "            self.atomtype = \"H\"\n",
    "\n",
    "        elif(typeid == 32):\n",
    "            self.atomtype = \"F\"\n",
    "        \n",
    "        elif(typeid == 33):\n",
    "            self.atomtype = \"Cl\"\n",
    "\n",
    "        elif(typeid == 34):\n",
    "            self.atomtype = \"Br\"\n",
    "\n",
    "        elif(typeid == 35):\n",
    "            self.atomtype = \"I\"\n",
    "\n",
    "        elif(typeid >= 36 and typeid <= 48):\n",
    "            self.atomtype = \"N\"\n",
    "\n",
    "        elif(typeid >= 49 and typeid <= 52):\n",
    "            self.atomtype = \"O\"\n",
    "\n",
    "        elif (typeid >= 53 and typeid <= 63):\n",
    "            self.atomtype = \"P\"\n",
    "\n",
    "        elif (typeid >= 64 and typeid <= 71):\n",
    "            self.atomtype = \"S\"\n",
    "\n",
    "        else:\n",
    "            self.atomtype = \" \"\n",
    "\n",
    "class Bond:\n",
    "    def __init__(self, a1, a2):\n",
    "        self.atom1 = a1\n",
    "        self.atom2 = a2"
   ]
  },
  {
   "cell_type": "code",
   "execution_count": 16,
   "id": "fa08863d",
   "metadata": {},
   "outputs": [],
   "source": [
    "# File input\n",
    "\n",
    "fc = open(\"sorted_coords.data\", \"r\")\n",
    "fb = open(\"sorted_bonds.data\", \"r\")\n",
    "\n",
    "clines = fc.readlines()\n",
    "blines = fb.readlines()\n",
    "\n",
    "atoms = []\n",
    "\n",
    "for line in clines:\n",
    "    tokens = line.split()\n",
    "    #print(tokens)    \n",
    "    n = int(tokens[0])\n",
    "    mol = int(tokens[1])\n",
    "    typeid = int(tokens[2])\n",
    "    charge = float(tokens[3])\n",
    "    x = float(tokens[4])\n",
    "    y = float(tokens[5])\n",
    "    z = float(tokens[6])\n",
    "    \n",
    "    atoms.append(Atom(n, mol, typeid, charge, x, y, z))\n",
    "\n",
    "bondi = []\n",
    "bondj = []\n",
    "\n",
    "for line in blines:\n",
    "    tokens = line.split()\n",
    "    #print(tokens)\n",
    "    atom1 = int(tokens[2])\n",
    "    atom2 = int(tokens[3])\n",
    "\n",
    "    bondi.append(atom1)\n",
    "    bondj.append(atom2)\n",
    "\n",
    "system = mb.Compound()"
   ]
  },
  {
   "cell_type": "code",
   "execution_count": 17,
   "id": "f10465cf",
   "metadata": {},
   "outputs": [],
   "source": [
    "%%time\n",
    "\n",
    "# Timing particle additions\n",
    "\n",
    "for i in range(num_molecules):\n",
    "    m = i + 1\n",
    "    mol = mb.Compound()\n",
    "\n",
    "    for atom in atoms:\n",
    "        if atom.mol == m:\n",
    "            a = mb.Particle(pos=[atom.x, atom.y, atom.z], element = atom.atomtype, name=atom.atomtype, charge= atom.charge)\n",
    "            mol.add(a)\n",
    "\n",
    "    system.add(mol)\n",
    "    \n",
    "print(f\"Added {system.n_particles} atoms\")"
   ]
  },
  {
   "cell_type": "code",
   "execution_count": 12,
   "id": "20e1d790",
   "metadata": {},
   "outputs": [
    {
     "ename": "KeyboardInterrupt",
     "evalue": "",
     "output_type": "error",
     "traceback": [
      "\u001b[0;31m---------------------------------------------------------------------------\u001b[0m",
      "\u001b[0;31mKeyboardInterrupt\u001b[0m                         Traceback (most recent call last)",
      "File \u001b[0;32m<timed exec>:5\u001b[0m\n",
      "File \u001b[0;32m~/mbuild/mbuild/compound.py:3419\u001b[0m, in \u001b[0;36mCompound.__getitem__\u001b[0;34m(self, selection)\u001b[0m\n\u001b[1;32m   3417\u001b[0m \u001b[38;5;250m\u001b[39m\u001b[38;5;124;03m\"\"\"Get item from Compound.\"\"\"\u001b[39;00m\n\u001b[1;32m   3418\u001b[0m \u001b[38;5;28;01mif\u001b[39;00m \u001b[38;5;28misinstance\u001b[39m(selection, \u001b[38;5;28mint\u001b[39m):\n\u001b[0;32m-> 3419\u001b[0m     \u001b[38;5;28;01mreturn\u001b[39;00m \u001b[38;5;28mlist\u001b[39m(\u001b[38;5;28mself\u001b[39m\u001b[38;5;241m.\u001b[39mparticles())[selection]\n\u001b[1;32m   3420\u001b[0m \u001b[38;5;28;01mif\u001b[39;00m \u001b[38;5;28misinstance\u001b[39m(selection, \u001b[38;5;28mstr\u001b[39m):\n\u001b[1;32m   3421\u001b[0m     \u001b[38;5;28;01mif\u001b[39;00m selection \u001b[38;5;129;01mnot\u001b[39;00m \u001b[38;5;129;01min\u001b[39;00m \u001b[38;5;28mself\u001b[39m\u001b[38;5;241m.\u001b[39mlabels:\n",
      "File \u001b[0;32m~/mbuild/mbuild/compound.py:232\u001b[0m, in \u001b[0;36mCompound.particles\u001b[0;34m(self, include_ports)\u001b[0m\n\u001b[1;32m    230\u001b[0m \u001b[38;5;28;01melse\u001b[39;00m:\n\u001b[1;32m    231\u001b[0m     \u001b[38;5;28;01mfor\u001b[39;00m particle \u001b[38;5;129;01min\u001b[39;00m \u001b[38;5;28mself\u001b[39m\u001b[38;5;241m.\u001b[39m_particles(include_ports):\n\u001b[0;32m--> 232\u001b[0m         \u001b[38;5;28;01myield\u001b[39;00m particle\n",
      "\u001b[0;31mKeyboardInterrupt\u001b[0m: "
     ]
    }
   ],
   "source": [
    "%%time\n",
    "\n",
    "# Timing bond additions\n",
    "\n",
    "for i in range(len(bondi)):\n",
    "    #print(f\"Adding bond number {i}\")\n",
    "    system.add_bond((system[bondi[i] - 1], system[bondj[i] - 1]))\n",
    "    \n",
    "print(f\"Added {system.n_bonds} bonds\")"
   ]
  },
  {
   "cell_type": "code",
   "execution_count": 13,
   "id": "a86d5526",
   "metadata": {},
   "outputs": [
    {
     "name": "stderr",
     "output_type": "stream",
     "text": [
      "\n",
      "KeyboardInterrupt\n",
      "\n"
     ]
    }
   ],
   "source": [
    "%%time\n",
    "\n",
    "# Timing GSD save\n",
    "\n",
    "system.save(\"system.gsd\")"
   ]
  },
  {
   "cell_type": "code",
   "execution_count": null,
   "id": "1ec3c5d6",
   "metadata": {},
   "outputs": [],
   "source": []
  }
 ],
 "metadata": {
  "kernelspec": {
   "display_name": "Python 3 (ipykernel)",
   "language": "python",
   "name": "python3"
  },
  "language_info": {
   "codemirror_mode": {
    "name": "ipython",
    "version": 3
   },
   "file_extension": ".py",
   "mimetype": "text/x-python",
   "name": "python",
   "nbconvert_exporter": "python",
   "pygments_lexer": "ipython3",
   "version": "3.11.3"
  }
 },
 "nbformat": 4,
 "nbformat_minor": 5
}
